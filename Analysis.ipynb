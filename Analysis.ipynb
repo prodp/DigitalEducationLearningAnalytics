{
 "cells": [
  {
   "cell_type": "code",
   "execution_count": 1,
   "metadata": {},
   "outputs": [],
   "source": [
    "import pandas as pd\n",
    "import numpy as np\n",
    "# Seaborn visualization library\n",
    "import seaborn as sns\n",
    "import matplotlib.pyplot as plt\n",
    "import pylab\n",
    "from scipy.stats import ttest_ind\n",
    "from scipy.stats import pearsonr\n",
    "from scipy.stats import spearmanr\n",
    "from scipy.stats import ttest_ind\n",
    "from scipy.stats import ks_2samp\n",
    "import scipy.stats as stats"
   ]
  },
  {
   "cell_type": "code",
   "execution_count": 2,
   "metadata": {},
   "outputs": [],
   "source": [
    "# Constants, paths, ecc\n",
    "DATA = 'data/'\n",
    "CLEAN = 'clean/'\n",
    "BASE_PATH = DATA + CLEAN"
   ]
  },
  {
   "cell_type": "markdown",
   "metadata": {},
   "source": [
    "### Explore all the summary data all together"
   ]
  },
  {
   "cell_type": "code",
   "execution_count": 3,
   "metadata": {
    "scrolled": false
   },
   "outputs": [
    {
     "data": {
      "text/html": [
       "<div>\n",
       "<style scoped>\n",
       "    .dataframe tbody tr th:only-of-type {\n",
       "        vertical-align: middle;\n",
       "    }\n",
       "\n",
       "    .dataframe tbody tr th {\n",
       "        vertical-align: top;\n",
       "    }\n",
       "\n",
       "    .dataframe thead th {\n",
       "        text-align: right;\n",
       "    }\n",
       "</style>\n",
       "<table border=\"1\" class=\"dataframe\">\n",
       "  <thead>\n",
       "    <tr style=\"text-align: right;\">\n",
       "      <th></th>\n",
       "      <th>id</th>\n",
       "      <th>partner</th>\n",
       "      <th>pretest_total</th>\n",
       "      <th>pretest_percent</th>\n",
       "      <th>squat_total</th>\n",
       "      <th>squat_percent</th>\n",
       "      <th>pushup_total</th>\n",
       "      <th>pushup_percent</th>\n",
       "      <th>final_total</th>\n",
       "      <th>final_percent</th>\n",
       "    </tr>\n",
       "    <tr>\n",
       "      <th>id</th>\n",
       "      <th></th>\n",
       "      <th></th>\n",
       "      <th></th>\n",
       "      <th></th>\n",
       "      <th></th>\n",
       "      <th></th>\n",
       "      <th></th>\n",
       "      <th></th>\n",
       "      <th></th>\n",
       "      <th></th>\n",
       "    </tr>\n",
       "  </thead>\n",
       "  <tbody>\n",
       "    <tr>\n",
       "      <th>1</th>\n",
       "      <td>1</td>\n",
       "      <td>3.0</td>\n",
       "      <td>2.583333</td>\n",
       "      <td>86.111111</td>\n",
       "      <td>4.000000</td>\n",
       "      <td>100.000000</td>\n",
       "      <td>3.6</td>\n",
       "      <td>90.0</td>\n",
       "      <td>10.964286</td>\n",
       "      <td>91.369048</td>\n",
       "    </tr>\n",
       "    <tr>\n",
       "      <th>2</th>\n",
       "      <td>2</td>\n",
       "      <td>0.0</td>\n",
       "      <td>1.750000</td>\n",
       "      <td>58.333333</td>\n",
       "      <td>4.000000</td>\n",
       "      <td>100.000000</td>\n",
       "      <td>4.0</td>\n",
       "      <td>100.0</td>\n",
       "      <td>10.890476</td>\n",
       "      <td>90.753968</td>\n",
       "    </tr>\n",
       "    <tr>\n",
       "      <th>0</th>\n",
       "      <td>0</td>\n",
       "      <td>2.0</td>\n",
       "      <td>1.500000</td>\n",
       "      <td>50.000000</td>\n",
       "      <td>4.000000</td>\n",
       "      <td>100.000000</td>\n",
       "      <td>4.0</td>\n",
       "      <td>100.0</td>\n",
       "      <td>11.054762</td>\n",
       "      <td>92.123016</td>\n",
       "    </tr>\n",
       "    <tr>\n",
       "      <th>3</th>\n",
       "      <td>3</td>\n",
       "      <td>1.0</td>\n",
       "      <td>1.916667</td>\n",
       "      <td>63.888889</td>\n",
       "      <td>4.000000</td>\n",
       "      <td>100.000000</td>\n",
       "      <td>3.6</td>\n",
       "      <td>90.0</td>\n",
       "      <td>11.183333</td>\n",
       "      <td>93.194444</td>\n",
       "    </tr>\n",
       "    <tr>\n",
       "      <th>4</th>\n",
       "      <td>4</td>\n",
       "      <td>NaN</td>\n",
       "      <td>2.250000</td>\n",
       "      <td>75.000000</td>\n",
       "      <td>3.333333</td>\n",
       "      <td>83.333333</td>\n",
       "      <td>4.0</td>\n",
       "      <td>100.0</td>\n",
       "      <td>10.890476</td>\n",
       "      <td>90.753968</td>\n",
       "    </tr>\n",
       "  </tbody>\n",
       "</table>\n",
       "</div>"
      ],
      "text/plain": [
       "    id  partner  pretest_total  pretest_percent  squat_total  squat_percent  \\\n",
       "id                                                                            \n",
       "1    1      3.0       2.583333        86.111111     4.000000     100.000000   \n",
       "2    2      0.0       1.750000        58.333333     4.000000     100.000000   \n",
       "0    0      2.0       1.500000        50.000000     4.000000     100.000000   \n",
       "3    3      1.0       1.916667        63.888889     4.000000     100.000000   \n",
       "4    4      NaN       2.250000        75.000000     3.333333      83.333333   \n",
       "\n",
       "    pushup_total  pushup_percent  final_total  final_percent  \n",
       "id                                                            \n",
       "1            3.6            90.0    10.964286      91.369048  \n",
       "2            4.0           100.0    10.890476      90.753968  \n",
       "0            4.0           100.0    11.054762      92.123016  \n",
       "3            3.6            90.0    11.183333      93.194444  \n",
       "4            4.0           100.0    10.890476      90.753968  "
      ]
     },
     "execution_count": 3,
     "metadata": {},
     "output_type": "execute_result"
    }
   ],
   "source": [
    "# Read the summary CSV from the clean data path\n",
    "df_summary = pd.read_csv(BASE_PATH + 'summary.csv')\n",
    "df_summary.index = df_summary.id\n",
    "df_summary.head()"
   ]
  },
  {
   "cell_type": "code",
   "execution_count": 4,
   "metadata": {},
   "outputs": [
    {
     "data": {
      "text/html": [
       "<div>\n",
       "<style scoped>\n",
       "    .dataframe tbody tr th:only-of-type {\n",
       "        vertical-align: middle;\n",
       "    }\n",
       "\n",
       "    .dataframe tbody tr th {\n",
       "        vertical-align: top;\n",
       "    }\n",
       "\n",
       "    .dataframe thead th {\n",
       "        text-align: right;\n",
       "    }\n",
       "</style>\n",
       "<table border=\"1\" class=\"dataframe\">\n",
       "  <thead>\n",
       "    <tr style=\"text-align: right;\">\n",
       "      <th></th>\n",
       "      <th>id</th>\n",
       "      <th>partner</th>\n",
       "      <th>pretest_percent</th>\n",
       "      <th>squat_percent</th>\n",
       "      <th>pushup_percent</th>\n",
       "      <th>final_percent</th>\n",
       "    </tr>\n",
       "    <tr>\n",
       "      <th>id</th>\n",
       "      <th></th>\n",
       "      <th></th>\n",
       "      <th></th>\n",
       "      <th></th>\n",
       "      <th></th>\n",
       "      <th></th>\n",
       "    </tr>\n",
       "  </thead>\n",
       "  <tbody>\n",
       "    <tr>\n",
       "      <th>1</th>\n",
       "      <td>1</td>\n",
       "      <td>3.0</td>\n",
       "      <td>86.111111</td>\n",
       "      <td>100.000000</td>\n",
       "      <td>90.0</td>\n",
       "      <td>91.369048</td>\n",
       "    </tr>\n",
       "    <tr>\n",
       "      <th>2</th>\n",
       "      <td>2</td>\n",
       "      <td>0.0</td>\n",
       "      <td>58.333333</td>\n",
       "      <td>100.000000</td>\n",
       "      <td>100.0</td>\n",
       "      <td>90.753968</td>\n",
       "    </tr>\n",
       "    <tr>\n",
       "      <th>0</th>\n",
       "      <td>0</td>\n",
       "      <td>2.0</td>\n",
       "      <td>50.000000</td>\n",
       "      <td>100.000000</td>\n",
       "      <td>100.0</td>\n",
       "      <td>92.123016</td>\n",
       "    </tr>\n",
       "    <tr>\n",
       "      <th>3</th>\n",
       "      <td>3</td>\n",
       "      <td>1.0</td>\n",
       "      <td>63.888889</td>\n",
       "      <td>100.000000</td>\n",
       "      <td>90.0</td>\n",
       "      <td>93.194444</td>\n",
       "    </tr>\n",
       "    <tr>\n",
       "      <th>4</th>\n",
       "      <td>4</td>\n",
       "      <td>NaN</td>\n",
       "      <td>75.000000</td>\n",
       "      <td>83.333333</td>\n",
       "      <td>100.0</td>\n",
       "      <td>90.753968</td>\n",
       "    </tr>\n",
       "  </tbody>\n",
       "</table>\n",
       "</div>"
      ],
      "text/plain": [
       "    id  partner  pretest_percent  squat_percent  pushup_percent  final_percent\n",
       "id                                                                            \n",
       "1    1      3.0        86.111111     100.000000            90.0      91.369048\n",
       "2    2      0.0        58.333333     100.000000           100.0      90.753968\n",
       "0    0      2.0        50.000000     100.000000           100.0      92.123016\n",
       "3    3      1.0        63.888889     100.000000            90.0      93.194444\n",
       "4    4      NaN        75.000000      83.333333           100.0      90.753968"
      ]
     },
     "execution_count": 4,
     "metadata": {},
     "output_type": "execute_result"
    }
   ],
   "source": [
    "df_summary = df_summary.drop(['pretest_total', 'squat_total', 'pushup_total', 'final_total'], axis=1)\n",
    "df_summary.head()"
   ]
  },
  {
   "cell_type": "code",
   "execution_count": 5,
   "metadata": {
    "scrolled": true
   },
   "outputs": [
    {
     "data": {
      "text/plain": [
       "85.3166335978836"
      ]
     },
     "execution_count": 5,
     "metadata": {},
     "output_type": "execute_result"
    }
   ],
   "source": [
    "# Mean on the final quizz\n",
    "df_summary['final_percent'].mean()"
   ]
  },
  {
   "cell_type": "code",
   "execution_count": 6,
   "metadata": {
    "scrolled": true
   },
   "outputs": [
    {
     "data": {
      "text/plain": [
       "58.37097146796186"
      ]
     },
     "execution_count": 6,
     "metadata": {},
     "output_type": "execute_result"
    }
   ],
   "source": [
    "# Variance on the final quizz\n",
    "df_summary['final_percent'].var()"
   ]
  },
  {
   "cell_type": "markdown",
   "metadata": {},
   "source": [
    "Let's take a look at the evolution of the grades"
   ]
  },
  {
   "cell_type": "code",
   "execution_count": 7,
   "metadata": {},
   "outputs": [
    {
     "data": {
      "text/plain": [
       "pretest_percent    74.768519\n",
       "squat_percent      88.541667\n",
       "pushup_percent     94.791667\n",
       "final_percent      85.316634\n",
       "dtype: float64"
      ]
     },
     "execution_count": 7,
     "metadata": {},
     "output_type": "execute_result"
    }
   ],
   "source": [
    "df_evolution = df_summary.drop(['partner', 'id'], axis=1)\n",
    "df_evolution.mean(axis=0)"
   ]
  },
  {
   "cell_type": "code",
   "execution_count": 8,
   "metadata": {},
   "outputs": [
    {
     "data": {
      "text/plain": [
       "count    24.000000\n",
       "mean     85.316634\n",
       "std       7.640090\n",
       "min      62.599206\n",
       "25%      81.830357\n",
       "50%      86.954365\n",
       "75%      90.843254\n",
       "max      94.861111\n",
       "Name: final_percent, dtype: float64"
      ]
     },
     "execution_count": 8,
     "metadata": {},
     "output_type": "execute_result"
    }
   ],
   "source": [
    "df_evolution['final_percent'].describe()"
   ]
  },
  {
   "cell_type": "code",
   "execution_count": 9,
   "metadata": {},
   "outputs": [
    {
     "data": {
      "text/plain": [
       "Text(0,0.5,'Number of participants')"
      ]
     },
     "execution_count": 9,
     "metadata": {},
     "output_type": "execute_result"
    },
    {
     "data": {
      "image/png": "[encoded data removed]",
      "text/plain": [
       "<Figure size 432x288 with 1 Axes>"
      ]
     },
     "metadata": {
      "needs_background": "light"
     },
     "output_type": "display_data"
    }
   ],
   "source": [
    "df_evolution['final_percent'].hist(grid=False)\n",
    "plt.xlabel(\"Percentage of points in final test\")\n",
    "plt.ylabel(\"Number of participants\")"
   ]
  },
  {
   "cell_type": "code",
   "execution_count": 10,
   "metadata": {
    "scrolled": true
   },
   "outputs": [
    {
     "data": {
      "image/png": "[encoded data removed]",
      "text/plain": [
       "<Figure size 432x288 with 1 Axes>"
      ]
     },
     "metadata": {
      "needs_background": "light"
     },
     "output_type": "display_data"
    }
   ],
   "source": [
    "# Evolution of the mean\n",
    "df_evolution_means = df_evolution.mean(axis=0).to_frame()\n",
    "df_evolution_means.plot(legend=False)\n",
    "plt.title('Evolution of the score means throughout the experiment')\n",
    "plt.xticks(np.arange(len(df_evolution_means.index)), df_evolution_means.index)\n",
    "_ = plt.ylabel('Percentage')\n",
    "plt.show()"
   ]
  },
  {
   "cell_type": "code",
   "execution_count": 11,
   "metadata": {},
   "outputs": [
    {
     "data": {
      "image/png": "[encoded data removed]",
      "text/plain": [
       "<Figure size 432x288 with 1 Axes>"
      ]
     },
     "metadata": {
      "needs_background": "light"
     },
     "output_type": "display_data"
    }
   ],
   "source": [
    "df_evolution.boxplot()\n",
    "plt.title('Evolution of the scores throughout the experiment')\n",
    "_ = plt.ylabel('Percentage')\n",
    "plt.show()"
   ]
  },
  {
   "cell_type": "markdown",
   "metadata": {},
   "source": [
    "#### Assess transfer learning parts"
   ]
  },
  {
   "cell_type": "markdown",
   "metadata": {},
   "source": [
    "Questions with transfer learning\n",
    "\n",
    "\n",
    "Question 0. Look at the following image. It shows an exercise that was not presented during the lecture. In your opinion, is this similar to one of the exercises shown during the lecture? If yes, which one? Justify your answer. Explain what are the similarities/dissimilarities with the presented exercises.\n",
    "\n",
    "Question 5. This injury can be the consequence of incorrect elbow movement during pushups (never said in the lectures)\n",
    "\n",
    "Question 6. Look at the following image. It shows an exercise that was not presented during the lecture. In your opinion, is this similar to one of the exercises shown during the lecture? If yes, which one? Justify your answer. Explain what are the similarities/dissimilarities with the presented exercises.\n",
    "\n",
    "Question 8. The chaining of the Burpee explain could particularly hurt one body joint if done uncorrectly. Which joins are at risk? (never said in the lectures)\n",
    "\n",
    "Question 10. This injury can be the consequence of incorrect elbow movement during pushups (never said in the lectures)"
   ]
  },
  {
   "cell_type": "code",
   "execution_count": 12,
   "metadata": {},
   "outputs": [
    {
     "data": {
      "text/html": [
       "<div>\n",
       "<style scoped>\n",
       "    .dataframe tbody tr th:only-of-type {\n",
       "        vertical-align: middle;\n",
       "    }\n",
       "\n",
       "    .dataframe tbody tr th {\n",
       "        vertical-align: top;\n",
       "    }\n",
       "\n",
       "    .dataframe thead th {\n",
       "        text-align: right;\n",
       "    }\n",
       "</style>\n",
       "<table border=\"1\" class=\"dataframe\">\n",
       "  <thead>\n",
       "    <tr style=\"text-align: right;\">\n",
       "      <th></th>\n",
       "      <th>0</th>\n",
       "      <th>1</th>\n",
       "      <th>2</th>\n",
       "      <th>3</th>\n",
       "      <th>4</th>\n",
       "      <th>5</th>\n",
       "      <th>6</th>\n",
       "      <th>7</th>\n",
       "      <th>8</th>\n",
       "      <th>9</th>\n",
       "      <th>10</th>\n",
       "      <th>11</th>\n",
       "      <th>transfer_learning_percent</th>\n",
       "      <th>total_percent</th>\n",
       "    </tr>\n",
       "    <tr>\n",
       "      <th>id</th>\n",
       "      <th></th>\n",
       "      <th></th>\n",
       "      <th></th>\n",
       "      <th></th>\n",
       "      <th></th>\n",
       "      <th></th>\n",
       "      <th></th>\n",
       "      <th></th>\n",
       "      <th></th>\n",
       "      <th></th>\n",
       "      <th></th>\n",
       "      <th></th>\n",
       "      <th></th>\n",
       "      <th></th>\n",
       "    </tr>\n",
       "  </thead>\n",
       "  <tbody>\n",
       "    <tr>\n",
       "      <th>0</th>\n",
       "      <td>1.0</td>\n",
       "      <td>0.9</td>\n",
       "      <td>1.0</td>\n",
       "      <td>1.0</td>\n",
       "      <td>1.0</td>\n",
       "      <td>1.0</td>\n",
       "      <td>1.0</td>\n",
       "      <td>0.571429</td>\n",
       "      <td>0.833333</td>\n",
       "      <td>0.75</td>\n",
       "      <td>1.0</td>\n",
       "      <td>1.0</td>\n",
       "      <td>96.666667</td>\n",
       "      <td>92.123016</td>\n",
       "    </tr>\n",
       "  </tbody>\n",
       "</table>\n",
       "</div>"
      ],
      "text/plain": [
       "      0    1    2    3    4    5    6         7         8     9   10   11  \\\n",
       "id                                                                          \n",
       "0   1.0  0.9  1.0  1.0  1.0  1.0  1.0  0.571429  0.833333  0.75  1.0  1.0   \n",
       "\n",
       "    transfer_learning_percent  total_percent  \n",
       "id                                            \n",
       "0                   96.666667      92.123016  "
      ]
     },
     "execution_count": 12,
     "metadata": {},
     "output_type": "execute_result"
    }
   ],
   "source": [
    "NUM_SESSIONS = 6\n",
    "DATA = 'data/'\n",
    "CLEAN = 'clean/'\n",
    "BASE_PATH = DATA + CLEAN\n",
    "\n",
    "def session_summary(session):\n",
    "    \n",
    "    df_final = pd.read_csv(BASE_PATH + 's' + str(session) + '_final.csv')\n",
    "    df_final.index = df_final.id\n",
    "    df_transfer_learning = df_final[['0', '5', '6', '8', '10']]\n",
    "    df_final['transfer_learning_percent'] = df_transfer_learning.sum(axis=1) * 100 / len(df_transfer_learning.columns)\n",
    "    df_final = df_final[['0', '1', '2', '3', '4', '5', '6', '7', '8', '9', '10', '11', 'transfer_learning_percent', 'percent']]\n",
    "    df_final.columns = ['0', '1', '2', '3', '4', '5', '6', '7', '8', '9', '10', '11', 'transfer_learning_percent', 'total_percent']\n",
    "\n",
    "    return df_final\n",
    "\n",
    "\n",
    "df_final_quizz_answers = pd.DataFrame()\n",
    "for s in range(NUM_SESSIONS):\n",
    "    df_session = session_summary(s)\n",
    "    df_final_quizz_answers = df_final_quizz_answers.append(df_session)\n",
    "df_final_quizz_answers.head(1)"
   ]
  },
  {
   "cell_type": "code",
   "execution_count": 13,
   "metadata": {},
   "outputs": [
    {
     "data": {
      "text/plain": [
       "84.4027777777778"
      ]
     },
     "execution_count": 13,
     "metadata": {},
     "output_type": "execute_result"
    }
   ],
   "source": [
    "df_final_quizz_answers['transfer_learning_percent'].mean()"
   ]
  },
  {
   "cell_type": "code",
   "execution_count": 14,
   "metadata": {
    "scrolled": true
   },
   "outputs": [
    {
     "data": {
      "image/png": "[encoded data removed]",
      "text/plain": [
       "<Figure size 432x288 with 1 Axes>"
      ]
     },
     "metadata": {
      "needs_background": "light"
     },
     "output_type": "display_data"
    }
   ],
   "source": [
    "df_final_quizz_answers['transfer_learning_percent'].plot.box().set_ylim(50,102)\n",
    "plt.title('Score at the transfer learning questions')\n",
    "_ = plt.ylabel('Percentage')\n",
    "plt.show()"
   ]
  },
  {
   "cell_type": "code",
   "execution_count": 15,
   "metadata": {},
   "outputs": [
    {
     "data": {
      "text/plain": [
       "<seaborn.axisgrid.PairGrid at 0x7fda478cdc88>"
      ]
     },
     "execution_count": 15,
     "metadata": {},
     "output_type": "execute_result"
    },
    {
     "data": {
      "image/png": "[encoded data removed]",
      "text/plain": [
       "<Figure size 432x432 with 6 Axes>"
      ]
     },
     "metadata": {
      "needs_background": "light"
     },
     "output_type": "display_data"
    }
   ],
   "source": [
    "sns.pairplot(df_final_quizz_answers[['transfer_learning_percent', 'total_percent']], height=3)"
   ]
  },
  {
   "cell_type": "code",
   "execution_count": 16,
   "metadata": {},
   "outputs": [
    {
     "data": {
      "text/plain": [
       "(0.840655306603001, 2.7186502229953987e-07)"
      ]
     },
     "execution_count": 16,
     "metadata": {},
     "output_type": "execute_result"
    }
   ],
   "source": [
    "pearsonr(df_final_quizz_answers['transfer_learning_percent'], df_final_quizz_answers['total_percent'])"
   ]
  },
  {
   "cell_type": "markdown",
   "metadata": {},
   "source": [
    "Overall, the transfer learning skills were acquired (mean of 84%). Moreover, we can see that there is a correlation between the final quizz score and the transfer learning score (the ones that had better understood the mooc (had better results) managed to do better the transfer learning part)."
   ]
  },
  {
   "cell_type": "markdown",
   "metadata": {},
   "source": [
    "### Influence of previous knowledge (pretest)"
   ]
  },
  {
   "cell_type": "code",
   "execution_count": 17,
   "metadata": {},
   "outputs": [
    {
     "data": {
      "text/html": [
       "<div>\n",
       "<style scoped>\n",
       "    .dataframe tbody tr th:only-of-type {\n",
       "        vertical-align: middle;\n",
       "    }\n",
       "\n",
       "    .dataframe tbody tr th {\n",
       "        vertical-align: top;\n",
       "    }\n",
       "\n",
       "    .dataframe thead th {\n",
       "        text-align: right;\n",
       "    }\n",
       "</style>\n",
       "<table border=\"1\" class=\"dataframe\">\n",
       "  <thead>\n",
       "    <tr style=\"text-align: right;\">\n",
       "      <th></th>\n",
       "      <th>pretest_percent</th>\n",
       "      <th>final_percent</th>\n",
       "    </tr>\n",
       "    <tr>\n",
       "      <th>id</th>\n",
       "      <th></th>\n",
       "      <th></th>\n",
       "    </tr>\n",
       "  </thead>\n",
       "  <tbody>\n",
       "    <tr>\n",
       "      <th>1</th>\n",
       "      <td>86.111111</td>\n",
       "      <td>91.369048</td>\n",
       "    </tr>\n",
       "  </tbody>\n",
       "</table>\n",
       "</div>"
      ],
      "text/plain": [
       "    pretest_percent  final_percent\n",
       "id                                \n",
       "1         86.111111      91.369048"
      ]
     },
     "execution_count": 17,
     "metadata": {},
     "output_type": "execute_result"
    }
   ],
   "source": [
    "df_pretest = df_summary.drop(['id', 'partner', 'squat_percent', 'pushup_percent'], axis=1)\n",
    "df_pretest.head(1)"
   ]
  },
  {
   "cell_type": "code",
   "execution_count": 18,
   "metadata": {
    "scrolled": false
   },
   "outputs": [
    {
     "data": {
      "text/plain": [
       "<seaborn.axisgrid.PairGrid at 0x7fda455b69b0>"
      ]
     },
     "execution_count": 18,
     "metadata": {},
     "output_type": "execute_result"
    },
    {
     "data": {
      "image/png": "[encoded data removed]",
      "text/plain": [
       "<Figure size 432x432 with 6 Axes>"
      ]
     },
     "metadata": {
      "needs_background": "light"
     },
     "output_type": "display_data"
    }
   ],
   "source": [
    "sns.pairplot(df_pretest, height=3)"
   ]
  },
  {
   "cell_type": "markdown",
   "metadata": {},
   "source": [
    "The data is more likely not really correlated but we can chek with the pearson (linear association) and spearman coeff."
   ]
  },
  {
   "cell_type": "code",
   "execution_count": 19,
   "metadata": {},
   "outputs": [
    {
     "data": {
      "text/plain": [
       "(0.19365171812502202, 0.3645782939291369)"
      ]
     },
     "execution_count": 19,
     "metadata": {},
     "output_type": "execute_result"
    }
   ],
   "source": [
    "pearsonr(df_pretest['pretest_percent'], df_pretest['final_percent'])"
   ]
  },
  {
   "cell_type": "code",
   "execution_count": 20,
   "metadata": {},
   "outputs": [
    {
     "data": {
      "text/plain": [
       "SpearmanrResult(correlation=0.0664051771669015, pvalue=0.7578606570262096)"
      ]
     },
     "execution_count": 20,
     "metadata": {},
     "output_type": "execute_result"
    }
   ],
   "source": [
    "spearmanr(df_pretest['pretest_percent'], df_pretest['final_percent'])"
   ]
  },
  {
   "cell_type": "markdown",
   "metadata": {},
   "source": [
    "### Differences groups and individuals"
   ]
  },
  {
   "cell_type": "code",
   "execution_count": 21,
   "metadata": {},
   "outputs": [],
   "source": [
    "# Get dataframe for \"individial sessions\" detapoints\n",
    "df_summary_individual = df_summary.loc[pd.isna(df_summary['partner'])]\n",
    "df_summary_individual = df_summary_individual.drop(['partner'], axis=1)"
   ]
  },
  {
   "cell_type": "code",
   "execution_count": 22,
   "metadata": {},
   "outputs": [],
   "source": [
    "# Get dataframe for \"groups sessions\" detapoints\n",
    "pd.options.mode.chained_assignment = None  # default='warn'\n",
    "df_summary_groups = df_summary.loc[pd.notna(df_summary['partner'])]\n",
    "df_summary_groups['partner'] = df_summary_groups['partner'].astype(int)"
   ]
  },
  {
   "cell_type": "markdown",
   "metadata": {},
   "source": [
    "#### Impact on results"
   ]
  },
  {
   "cell_type": "code",
   "execution_count": 23,
   "metadata": {},
   "outputs": [
    {
     "name": "stdout",
     "output_type": "stream",
     "text": [
      "Means:  squat_percent     84.166667\n",
      "pushup_percent    95.416667\n",
      "final_percent     81.240079\n",
      "dtype: float64\n"
     ]
    },
    {
     "data": {
      "image/png": "[encoded data removed]",
      "text/plain": [
       "<Figure size 432x288 with 1 Axes>"
      ]
     },
     "metadata": {
      "needs_background": "light"
     },
     "output_type": "display_data"
    }
   ],
   "source": [
    "# Results for individual sessions\n",
    "a = df_summary_individual.drop(['pretest_percent','id'], axis=1).boxplot().set_ylim(50,102)\n",
    "print(\"Means: \", df_summary_individual.drop(['pretest_percent','id'], axis=1).mean(axis=0))\n",
    "plt.title('Scores for the individual sessions')\n",
    "_ = plt.ylabel('Percentage')\n",
    "plt.show()"
   ]
  },
  {
   "cell_type": "code",
   "execution_count": 24,
   "metadata": {
    "scrolled": false
   },
   "outputs": [
    {
     "name": "stdout",
     "output_type": "stream",
     "text": [
      "Means:  partner           13.500000\n",
      "squat_percent     92.916667\n",
      "pushup_percent    94.166667\n",
      "final_percent     89.393188\n",
      "dtype: float64\n"
     ]
    },
    {
     "data": {
      "image/png": "[encoded data removed]",
      "text/plain": [
       "<Figure size 432x288 with 1 Axes>"
      ]
     },
     "metadata": {
      "needs_background": "light"
     },
     "output_type": "display_data"
    }
   ],
   "source": [
    "# Results for groups sessions\n",
    "a = df_summary_groups.drop(['pretest_percent', 'id', 'partner'], axis=1).boxplot().set_ylim(50,102)\n",
    "print(\"Means: \", df_summary_groups.drop(['pretest_percent','id'], axis=1).mean(axis=0))\n",
    "plt.title('Scores for the group sessions')\n",
    "_ = plt.ylabel('Percentage')"
   ]
  },
  {
   "cell_type": "markdown",
   "metadata": {},
   "source": [
    "We can see that the results for the group sessions for the final quizz are higher than the individual ones (but not necessarly for the intermediate quizz). We do the t-test to verify our answer (Welch as the variance is different). We first look to see if we have a normal distribution."
   ]
  },
  {
   "cell_type": "code",
   "execution_count": 25,
   "metadata": {
    "scrolled": true
   },
   "outputs": [
    {
     "data": {
      "image/png": "[encoded data removed]",
      "text/plain": [
       "<Figure size 432x288 with 1 Axes>"
      ]
     },
     "metadata": {
      "needs_background": "light"
     },
     "output_type": "display_data"
    }
   ],
   "source": [
    "stats.probplot(df_summary_individual['final_percent'], dist=\"norm\", plot=pylab)\n",
    "pylab.show()"
   ]
  },
  {
   "cell_type": "code",
   "execution_count": 26,
   "metadata": {},
   "outputs": [
    {
     "data": {
      "image/png": "[encoded data removed]",
      "text/plain": [
       "<Figure size 432x288 with 1 Axes>"
      ]
     },
     "metadata": {
      "needs_background": "light"
     },
     "output_type": "display_data"
    }
   ],
   "source": [
    "stats.probplot(df_summary_groups['final_percent'], dist=\"norm\", plot=pylab)\n",
    "pylab.show()"
   ]
  },
  {
   "cell_type": "code",
   "execution_count": 27,
   "metadata": {},
   "outputs": [],
   "source": [
    "from scipy.stats import shapiro"
   ]
  },
  {
   "cell_type": "code",
   "execution_count": 28,
   "metadata": {},
   "outputs": [
    {
     "data": {
      "text/plain": [
       "(0.9138785600662231, 0.23915348947048187)"
      ]
     },
     "execution_count": 28,
     "metadata": {},
     "output_type": "execute_result"
    }
   ],
   "source": [
    "shapiro(df_summary_individual['final_percent'])\n"
   ]
  },
  {
   "cell_type": "code",
   "execution_count": 29,
   "metadata": {},
   "outputs": [
    {
     "data": {
      "text/plain": [
       "Ttest_indResult(statistic=-3.0492620933550216, pvalue=0.006933503506884595)"
      ]
     },
     "execution_count": 29,
     "metadata": {},
     "output_type": "execute_result"
    }
   ],
   "source": [
    "ttest_ind(df_summary_individual['final_percent'], df_summary_groups['final_percent'], equal_var=False)\n",
    "# if not normal use\n"
   ]
  },
  {
   "cell_type": "code",
   "execution_count": null,
   "metadata": {},
   "outputs": [],
   "source": []
  },
  {
   "cell_type": "markdown",
   "metadata": {},
   "source": [
    "The p-value is really small so we can conclude that there is a significant difference between the two categories !"
   ]
  },
  {
   "cell_type": "markdown",
   "metadata": {},
   "source": [
    "#### Agreement rate in the groups during squat and pushup quizz and impact"
   ]
  },
  {
   "cell_type": "code",
   "execution_count": 30,
   "metadata": {
    "scrolled": false
   },
   "outputs": [
    {
     "data": {
      "text/plain": [
       "{1: 100.0,\n",
       " 2: 100.0,\n",
       " 0: 100.0,\n",
       " 3: 100.0,\n",
       " 4: 87.5,\n",
       " 5: 62.5,\n",
       " 6: 62.5,\n",
       " 7: 87.5,\n",
       " 8: 62.5,\n",
       " 9: 62.5,\n",
       " 10: 62.5,\n",
       " 11: 62.5,\n",
       " 12: 87.5,\n",
       " 13: 87.5,\n",
       " 14: 87.5,\n",
       " 15: 87.5,\n",
       " 16: 50.0,\n",
       " 17: 87.5,\n",
       " 18: 50.0,\n",
       " 19: 87.5,\n",
       " 20: 75.0,\n",
       " 21: 75.0,\n",
       " 22: 87.5,\n",
       " 23: 87.5}"
      ]
     },
     "execution_count": 30,
     "metadata": {},
     "output_type": "execute_result"
    }
   ],
   "source": [
    "from utils_quizzes import *\n",
    "from utils_sessions import *\n",
    "\n",
    "DATA = 'data/'\n",
    "CLEAN = 'clean/'\n",
    "BASE_PATH = DATA + CLEAN\n",
    "SESSIONS = 6\n",
    "\n",
    "def calculate_agreement(session):\n",
    "    \n",
    "    answers = ['a)', 'b)', 'c)', 'd)', 'e)']\n",
    "    \n",
    "    df_groups = pd.read_csv(BASE_PATH + 's' + str(session) + '_groups.csv')\n",
    "    df_groups.index = df_groups.id\n",
    "    df_groups = df_groups[['partner']]\n",
    "    # if individual session assign random partner\n",
    "    while df_groups.isnull().values.any():\n",
    "        pair_df = df_groups[df_groups['partner'].isnull()].sample(n=2)\n",
    "        df_groups.loc[pair_df.index.values[0]] = pair_df.index.values[1]\n",
    "        df_groups.loc[pair_df.index.values[1]] = pair_df.index.values[0]\n",
    "        \n",
    "    df_groups['partner'] = df_groups['partner'].astype(int)\n",
    "    \n",
    "    participant_agreement = {}\n",
    "    \n",
    "    for i in list(df_groups.index):\n",
    "        participant_agreement[i] = -1\n",
    "    \n",
    "    for participant in participant_agreement.keys():\n",
    "        if participant_agreement[participant] == -1:\n",
    "            total_questions = 0\n",
    "            agreed_questions = 0\n",
    "            partner = df_groups.loc[participant][0]\n",
    "            \n",
    "            for quiz in ['squat', 'pushup']:\n",
    "                raw_filename = DATA + str(session) + '/' + quiz + '.csv'\n",
    "                df_quiz = pd.read_csv(raw_filename, encoding='utf-8', quotechar='\"', sep=',', header=0,\n",
    "                                      usecols=cleanup_dicts[quiz][0], names=cleanup_dicts[quiz][1])\n",
    "\n",
    "                df_quiz.id = df_quiz.id.apply(lambda name: participants[session][name])\n",
    "                df_quiz.index = df_quiz.id\n",
    "\n",
    "                # Iterate over questions\n",
    "                for q in range(len(cleanup_dicts[quiz][2])):\n",
    "                    total_questions += 1\n",
    "                    agreed = True\n",
    "                    for answer in answers:\n",
    "                        if answer in df_quiz[str(q)].loc[participant] or answer in df_quiz[str(q)].loc[partner]:\n",
    "                            if not answer in df_quiz[str(q)].loc[participant] or not answer in df_quiz[str(q)].loc[partner]:\n",
    "                                agreed = False\n",
    "                                break\n",
    "                    if agreed:\n",
    "                        agreed_questions += 1\n",
    "                        \n",
    "            agreement = agreed_questions / total_questions * 100\n",
    "            participant_agreement[participant] = agreement\n",
    "            participant_agreement[partner] = agreement\n",
    "            \n",
    "    return participant_agreement\n",
    "\n",
    "\n",
    "agreement_dict = {}\n",
    "for s in range(SESSIONS):\n",
    "    session_agreement_dict = calculate_agreement(s)\n",
    "    agreement_dict.update(session_agreement_dict)\n",
    "agreement_dict"
   ]
  },
  {
   "cell_type": "markdown",
   "metadata": {},
   "source": [
    "Let's first see test the agreement rate of the groups sessions with the agreement rate for individual sessions were pairs were formed theoretically and randomly."
   ]
  },
  {
   "cell_type": "code",
   "execution_count": 31,
   "metadata": {},
   "outputs": [
    {
     "data": {
      "text/html": [
       "<div>\n",
       "<style scoped>\n",
       "    .dataframe tbody tr th:only-of-type {\n",
       "        vertical-align: middle;\n",
       "    }\n",
       "\n",
       "    .dataframe tbody tr th {\n",
       "        vertical-align: top;\n",
       "    }\n",
       "\n",
       "    .dataframe thead th {\n",
       "        text-align: right;\n",
       "    }\n",
       "</style>\n",
       "<table border=\"1\" class=\"dataframe\">\n",
       "  <thead>\n",
       "    <tr style=\"text-align: right;\">\n",
       "      <th></th>\n",
       "      <th>id</th>\n",
       "      <th>pretest_percent</th>\n",
       "      <th>squat_percent</th>\n",
       "      <th>pushup_percent</th>\n",
       "      <th>final_percent</th>\n",
       "      <th>agreement_percent</th>\n",
       "    </tr>\n",
       "    <tr>\n",
       "      <th>id</th>\n",
       "      <th></th>\n",
       "      <th></th>\n",
       "      <th></th>\n",
       "      <th></th>\n",
       "      <th></th>\n",
       "      <th></th>\n",
       "    </tr>\n",
       "  </thead>\n",
       "  <tbody>\n",
       "    <tr>\n",
       "      <th>4</th>\n",
       "      <td>4</td>\n",
       "      <td>75.000000</td>\n",
       "      <td>83.333333</td>\n",
       "      <td>100.0</td>\n",
       "      <td>90.753968</td>\n",
       "      <td>87.5</td>\n",
       "    </tr>\n",
       "    <tr>\n",
       "      <th>5</th>\n",
       "      <td>5</td>\n",
       "      <td>41.666667</td>\n",
       "      <td>75.000000</td>\n",
       "      <td>100.0</td>\n",
       "      <td>84.623016</td>\n",
       "      <td>62.5</td>\n",
       "    </tr>\n",
       "    <tr>\n",
       "      <th>6</th>\n",
       "      <td>6</td>\n",
       "      <td>100.000000</td>\n",
       "      <td>45.000000</td>\n",
       "      <td>90.0</td>\n",
       "      <td>78.809524</td>\n",
       "      <td>62.5</td>\n",
       "    </tr>\n",
       "    <tr>\n",
       "      <th>7</th>\n",
       "      <td>7</td>\n",
       "      <td>77.777778</td>\n",
       "      <td>83.333333</td>\n",
       "      <td>100.0</td>\n",
       "      <td>76.587302</td>\n",
       "      <td>87.5</td>\n",
       "    </tr>\n",
       "    <tr>\n",
       "      <th>8</th>\n",
       "      <td>8</td>\n",
       "      <td>100.000000</td>\n",
       "      <td>91.666667</td>\n",
       "      <td>100.0</td>\n",
       "      <td>88.035714</td>\n",
       "      <td>62.5</td>\n",
       "    </tr>\n",
       "    <tr>\n",
       "      <th>9</th>\n",
       "      <td>9</td>\n",
       "      <td>91.666667</td>\n",
       "      <td>78.333333</td>\n",
       "      <td>100.0</td>\n",
       "      <td>83.730159</td>\n",
       "      <td>62.5</td>\n",
       "    </tr>\n",
       "    <tr>\n",
       "      <th>10</th>\n",
       "      <td>10</td>\n",
       "      <td>41.666667</td>\n",
       "      <td>95.000000</td>\n",
       "      <td>75.0</td>\n",
       "      <td>75.456349</td>\n",
       "      <td>62.5</td>\n",
       "    </tr>\n",
       "    <tr>\n",
       "      <th>11</th>\n",
       "      <td>11</td>\n",
       "      <td>91.666667</td>\n",
       "      <td>83.333333</td>\n",
       "      <td>100.0</td>\n",
       "      <td>85.873016</td>\n",
       "      <td>62.5</td>\n",
       "    </tr>\n",
       "    <tr>\n",
       "      <th>12</th>\n",
       "      <td>12</td>\n",
       "      <td>66.666667</td>\n",
       "      <td>91.666667</td>\n",
       "      <td>100.0</td>\n",
       "      <td>62.599206</td>\n",
       "      <td>87.5</td>\n",
       "    </tr>\n",
       "    <tr>\n",
       "      <th>13</th>\n",
       "      <td>13</td>\n",
       "      <td>52.777778</td>\n",
       "      <td>100.000000</td>\n",
       "      <td>90.0</td>\n",
       "      <td>82.837302</td>\n",
       "      <td>87.5</td>\n",
       "    </tr>\n",
       "    <tr>\n",
       "      <th>14</th>\n",
       "      <td>14</td>\n",
       "      <td>77.777778</td>\n",
       "      <td>83.333333</td>\n",
       "      <td>90.0</td>\n",
       "      <td>75.515873</td>\n",
       "      <td>87.5</td>\n",
       "    </tr>\n",
       "    <tr>\n",
       "      <th>15</th>\n",
       "      <td>15</td>\n",
       "      <td>100.000000</td>\n",
       "      <td>100.000000</td>\n",
       "      <td>100.0</td>\n",
       "      <td>90.059524</td>\n",
       "      <td>87.5</td>\n",
       "    </tr>\n",
       "  </tbody>\n",
       "</table>\n",
       "</div>"
      ],
      "text/plain": [
       "    id  pretest_percent  squat_percent  pushup_percent  final_percent  \\\n",
       "id                                                                      \n",
       "4    4        75.000000      83.333333           100.0      90.753968   \n",
       "5    5        41.666667      75.000000           100.0      84.623016   \n",
       "6    6       100.000000      45.000000            90.0      78.809524   \n",
       "7    7        77.777778      83.333333           100.0      76.587302   \n",
       "8    8       100.000000      91.666667           100.0      88.035714   \n",
       "9    9        91.666667      78.333333           100.0      83.730159   \n",
       "10  10        41.666667      95.000000            75.0      75.456349   \n",
       "11  11        91.666667      83.333333           100.0      85.873016   \n",
       "12  12        66.666667      91.666667           100.0      62.599206   \n",
       "13  13        52.777778     100.000000            90.0      82.837302   \n",
       "14  14        77.777778      83.333333            90.0      75.515873   \n",
       "15  15       100.000000     100.000000           100.0      90.059524   \n",
       "\n",
       "    agreement_percent  \n",
       "id                     \n",
       "4                87.5  \n",
       "5                62.5  \n",
       "6                62.5  \n",
       "7                87.5  \n",
       "8                62.5  \n",
       "9                62.5  \n",
       "10               62.5  \n",
       "11               62.5  \n",
       "12               87.5  \n",
       "13               87.5  \n",
       "14               87.5  \n",
       "15               87.5  "
      ]
     },
     "execution_count": 31,
     "metadata": {},
     "output_type": "execute_result"
    }
   ],
   "source": [
    "pd.options.mode.chained_assignment = None  # default='warn'\n",
    "df_summary_individual['agreement_percent'] = df_summary_individual.id.map(agreement_dict)\n",
    "df_summary_individual"
   ]
  },
  {
   "cell_type": "code",
   "execution_count": 32,
   "metadata": {
    "scrolled": false
   },
   "outputs": [
    {
     "data": {
      "text/html": [
       "<div>\n",
       "<style scoped>\n",
       "    .dataframe tbody tr th:only-of-type {\n",
       "        vertical-align: middle;\n",
       "    }\n",
       "\n",
       "    .dataframe tbody tr th {\n",
       "        vertical-align: top;\n",
       "    }\n",
       "\n",
       "    .dataframe thead th {\n",
       "        text-align: right;\n",
       "    }\n",
       "</style>\n",
       "<table border=\"1\" class=\"dataframe\">\n",
       "  <thead>\n",
       "    <tr style=\"text-align: right;\">\n",
       "      <th></th>\n",
       "      <th>id</th>\n",
       "      <th>partner</th>\n",
       "      <th>pretest_percent</th>\n",
       "      <th>squat_percent</th>\n",
       "      <th>pushup_percent</th>\n",
       "      <th>final_percent</th>\n",
       "      <th>agreement_percent</th>\n",
       "    </tr>\n",
       "    <tr>\n",
       "      <th>id</th>\n",
       "      <th></th>\n",
       "      <th></th>\n",
       "      <th></th>\n",
       "      <th></th>\n",
       "      <th></th>\n",
       "      <th></th>\n",
       "      <th></th>\n",
       "    </tr>\n",
       "  </thead>\n",
       "  <tbody>\n",
       "    <tr>\n",
       "      <th>1</th>\n",
       "      <td>1</td>\n",
       "      <td>3</td>\n",
       "      <td>86.111111</td>\n",
       "      <td>100.000000</td>\n",
       "      <td>90.0</td>\n",
       "      <td>91.369048</td>\n",
       "      <td>100.0</td>\n",
       "    </tr>\n",
       "    <tr>\n",
       "      <th>2</th>\n",
       "      <td>2</td>\n",
       "      <td>0</td>\n",
       "      <td>58.333333</td>\n",
       "      <td>100.000000</td>\n",
       "      <td>100.0</td>\n",
       "      <td>90.753968</td>\n",
       "      <td>100.0</td>\n",
       "    </tr>\n",
       "    <tr>\n",
       "      <th>0</th>\n",
       "      <td>0</td>\n",
       "      <td>2</td>\n",
       "      <td>50.000000</td>\n",
       "      <td>100.000000</td>\n",
       "      <td>100.0</td>\n",
       "      <td>92.123016</td>\n",
       "      <td>100.0</td>\n",
       "    </tr>\n",
       "    <tr>\n",
       "      <th>3</th>\n",
       "      <td>3</td>\n",
       "      <td>1</td>\n",
       "      <td>63.888889</td>\n",
       "      <td>100.000000</td>\n",
       "      <td>90.0</td>\n",
       "      <td>93.194444</td>\n",
       "      <td>100.0</td>\n",
       "    </tr>\n",
       "    <tr>\n",
       "      <th>16</th>\n",
       "      <td>16</td>\n",
       "      <td>18</td>\n",
       "      <td>33.333333</td>\n",
       "      <td>83.333333</td>\n",
       "      <td>75.0</td>\n",
       "      <td>78.035714</td>\n",
       "      <td>50.0</td>\n",
       "    </tr>\n",
       "    <tr>\n",
       "      <th>17</th>\n",
       "      <td>17</td>\n",
       "      <td>19</td>\n",
       "      <td>72.222222</td>\n",
       "      <td>75.000000</td>\n",
       "      <td>100.0</td>\n",
       "      <td>91.111111</td>\n",
       "      <td>87.5</td>\n",
       "    </tr>\n",
       "    <tr>\n",
       "      <th>18</th>\n",
       "      <td>18</td>\n",
       "      <td>16</td>\n",
       "      <td>91.666667</td>\n",
       "      <td>90.000000</td>\n",
       "      <td>90.0</td>\n",
       "      <td>89.027778</td>\n",
       "      <td>50.0</td>\n",
       "    </tr>\n",
       "    <tr>\n",
       "      <th>19</th>\n",
       "      <td>19</td>\n",
       "      <td>17</td>\n",
       "      <td>83.333333</td>\n",
       "      <td>100.000000</td>\n",
       "      <td>100.0</td>\n",
       "      <td>85.694444</td>\n",
       "      <td>87.5</td>\n",
       "    </tr>\n",
       "    <tr>\n",
       "      <th>20</th>\n",
       "      <td>20</td>\n",
       "      <td>21</td>\n",
       "      <td>100.000000</td>\n",
       "      <td>100.000000</td>\n",
       "      <td>90.0</td>\n",
       "      <td>84.146825</td>\n",
       "      <td>75.0</td>\n",
       "    </tr>\n",
       "    <tr>\n",
       "      <th>21</th>\n",
       "      <td>21</td>\n",
       "      <td>20</td>\n",
       "      <td>83.333333</td>\n",
       "      <td>75.000000</td>\n",
       "      <td>95.0</td>\n",
       "      <td>94.861111</td>\n",
       "      <td>75.0</td>\n",
       "    </tr>\n",
       "    <tr>\n",
       "      <th>22</th>\n",
       "      <td>22</td>\n",
       "      <td>23</td>\n",
       "      <td>83.333333</td>\n",
       "      <td>100.000000</td>\n",
       "      <td>100.0</td>\n",
       "      <td>89.087302</td>\n",
       "      <td>87.5</td>\n",
       "    </tr>\n",
       "    <tr>\n",
       "      <th>23</th>\n",
       "      <td>23</td>\n",
       "      <td>22</td>\n",
       "      <td>72.222222</td>\n",
       "      <td>91.666667</td>\n",
       "      <td>100.0</td>\n",
       "      <td>93.313492</td>\n",
       "      <td>87.5</td>\n",
       "    </tr>\n",
       "  </tbody>\n",
       "</table>\n",
       "</div>"
      ],
      "text/plain": [
       "    id  partner  pretest_percent  squat_percent  pushup_percent  \\\n",
       "id                                                                \n",
       "1    1        3        86.111111     100.000000            90.0   \n",
       "2    2        0        58.333333     100.000000           100.0   \n",
       "0    0        2        50.000000     100.000000           100.0   \n",
       "3    3        1        63.888889     100.000000            90.0   \n",
       "16  16       18        33.333333      83.333333            75.0   \n",
       "17  17       19        72.222222      75.000000           100.0   \n",
       "18  18       16        91.666667      90.000000            90.0   \n",
       "19  19       17        83.333333     100.000000           100.0   \n",
       "20  20       21       100.000000     100.000000            90.0   \n",
       "21  21       20        83.333333      75.000000            95.0   \n",
       "22  22       23        83.333333     100.000000           100.0   \n",
       "23  23       22        72.222222      91.666667           100.0   \n",
       "\n",
       "    final_percent  agreement_percent  \n",
       "id                                    \n",
       "1       91.369048              100.0  \n",
       "2       90.753968              100.0  \n",
       "0       92.123016              100.0  \n",
       "3       93.194444              100.0  \n",
       "16      78.035714               50.0  \n",
       "17      91.111111               87.5  \n",
       "18      89.027778               50.0  \n",
       "19      85.694444               87.5  \n",
       "20      84.146825               75.0  \n",
       "21      94.861111               75.0  \n",
       "22      89.087302               87.5  \n",
       "23      93.313492               87.5  "
      ]
     },
     "execution_count": 32,
     "metadata": {},
     "output_type": "execute_result"
    }
   ],
   "source": [
    "pd.options.mode.chained_assignment = None  # default='warn'\n",
    "df_summary_groups['agreement_percent'] = df_summary_groups.id.map(agreement_dict)\n",
    "df_summary_groups"
   ]
  },
  {
   "cell_type": "code",
   "execution_count": 33,
   "metadata": {},
   "outputs": [
    {
     "data": {
      "text/plain": [
       "75.0"
      ]
     },
     "execution_count": 33,
     "metadata": {},
     "output_type": "execute_result"
    }
   ],
   "source": [
    "# Mean of agreement percentage for randomnly assigned pair from participants of the individual sessions\n",
    "df_summary_individual['agreement_percent'].mean(axis=0)"
   ]
  },
  {
   "cell_type": "code",
   "execution_count": 34,
   "metadata": {},
   "outputs": [
    {
     "data": {
      "text/plain": [
       "83.33333333333333"
      ]
     },
     "execution_count": 34,
     "metadata": {},
     "output_type": "execute_result"
    }
   ],
   "source": [
    "# Mean of agreement percentage for group session\n",
    "df_summary_groups['agreement_percent'].mean(axis=0)"
   ]
  },
  {
   "cell_type": "code",
   "execution_count": 36,
   "metadata": {},
   "outputs": [
    {
     "data": {
      "text/plain": [
       "(0.6497829556465149, 0.00028840036247856915)"
      ]
     },
     "execution_count": 36,
     "metadata": {},
     "output_type": "execute_result"
    }
   ],
   "source": [
    "shapiro(df_summary_individual['agreement_percent'])\n"
   ]
  },
  {
   "cell_type": "code",
   "execution_count": 37,
   "metadata": {},
   "outputs": [
    {
     "data": {
      "text/plain": [
       "(0.8183344602584839, 0.015256590209901333)"
      ]
     },
     "execution_count": 37,
     "metadata": {},
     "output_type": "execute_result"
    }
   ],
   "source": [
    "shapiro(df_summary_groups['agreement_percent'])\n"
   ]
  },
  {
   "cell_type": "code",
   "execution_count": 40,
   "metadata": {},
   "outputs": [
    {
     "data": {
      "text/plain": [
       "Ks_2sampResult(statistic=0.33333333333333337, pvalue=0.433308936810486)"
      ]
     },
     "execution_count": 40,
     "metadata": {},
     "output_type": "execute_result"
    }
   ],
   "source": [
    "ks_2samp(df_summary_individual['agreement_percent'], df_summary_groups['agreement_percent'])\n"
   ]
  },
  {
   "cell_type": "code",
   "execution_count": 35,
   "metadata": {
    "scrolled": true
   },
   "outputs": [
    {
     "data": {
      "image/png": "[encoded data removed]",
      "text/plain": [
       "<Figure size 432x288 with 1 Axes>"
      ]
     },
     "metadata": {
      "needs_background": "light"
     },
     "output_type": "display_data"
    }
   ],
   "source": [
    "df_summary_individual['agreement_percent'].hist().set_xlim(35,102)\n",
    "plt.title('Histogram of randomnly assigned pairs agreement percentage')\n",
    "plt.show()"
   ]
  },
  {
   "cell_type": "code",
   "execution_count": 35,
   "metadata": {},
   "outputs": [
    {
     "data": {
      "image/png": "[encoded data removed]",
      "text/plain": [
       "<Figure size 432x288 with 1 Axes>"
      ]
     },
     "metadata": {
      "needs_background": "light"
     },
     "output_type": "display_data"
    }
   ],
   "source": [
    "df_summary_groups['agreement_percent'].hist().set_xlim(35,102)\n",
    "plt.title('Histogram of groups session agreement percentage')\n",
    "plt.show()"
   ]
  },
  {
   "cell_type": "code",
   "execution_count": 36,
   "metadata": {},
   "outputs": [
    {
     "data": {
      "image/png": "[encoded data removed]",
      "text/plain": [
       "<Figure size 432x288 with 1 Axes>"
      ]
     },
     "metadata": {
      "needs_background": "light"
     },
     "output_type": "display_data"
    }
   ],
   "source": [
    "df_summary_individual['agreement_percent'].plot.box().set_ylim(50,102)\n",
    "plt.title('Randomnly assigned pairs agreement percentage')\n",
    "_ = plt.ylabel('Percentage')\n",
    "plt.show()"
   ]
  },
  {
   "cell_type": "code",
   "execution_count": 37,
   "metadata": {
    "scrolled": true
   },
   "outputs": [
    {
     "data": {
      "image/png": "[encoded data removed]",
      "text/plain": [
       "<Figure size 432x288 with 1 Axes>"
      ]
     },
     "metadata": {
      "needs_background": "light"
     },
     "output_type": "display_data"
    }
   ],
   "source": [
    "df_summary_groups['agreement_percent'].plot.box().set_ylim(50,102)\n",
    "plt.title('Groups session agreement percentage')\n",
    "_ = plt.ylabel('Percentage')\n",
    "plt.show()"
   ]
  },
  {
   "cell_type": "markdown",
   "metadata": {},
   "source": [
    "We can see there is a difference. This was done with several random pairs and the results obtained were similar."
   ]
  },
  {
   "cell_type": "markdown",
   "metadata": {},
   "source": [
    "Next, for the group sessions, let's see plot the agreement percentage and the respective final quizz percentage of the participants."
   ]
  },
  {
   "cell_type": "code",
   "execution_count": 38,
   "metadata": {},
   "outputs": [],
   "source": [
    "groups = {1: 0, 3: 0,\n",
    "          2: 1, 0: 1,\n",
    "          16: 2, 18: 2,\n",
    "          17: 3, 19: 3,\n",
    "          20: 4, 21: 4,\n",
    "          22: 5, 23: 5}\n",
    "df_summary_groups['groups'] = df_summary_groups.id.map(groups)"
   ]
  },
  {
   "cell_type": "code",
   "execution_count": 39,
   "metadata": {
    "scrolled": false
   },
   "outputs": [
    {
     "data": {
      "image/png": "[encoded data removed]",
      "text/plain": [
       "<Figure size 402.375x360 with 1 Axes>"
      ]
     },
     "metadata": {
      "needs_background": "light"
     },
     "output_type": "display_data"
    }
   ],
   "source": [
    "sns.pairplot(x_vars=[\"agreement_percent\"], y_vars=[\"final_percent\"], data=df_summary_groups, hue='groups', height=5)\n",
    "plt.title('Groups agreement percentage at intermediate quizzes vs score percentage at the final quizz')\n",
    "_ = plt.ylabel('Final quiz percentage')\n",
    "_ = plt.xlabel('Groups agreement percentage')"
   ]
  },
  {
   "cell_type": "markdown",
   "metadata": {},
   "source": [
    "If we look at the scatter plot, we see that when the agreement percent of the intermediate quizz in the pair is low, the two participants tend to have bigger difference in their final score quizz. This could be due to the fact that the peers who agreed the most were in fact communicating more about the answers and were therefore able to better understand the moocs and also their mistakes at the intermediate quizzes. Moreover, it also has an impact in a pair in the lowest score of the two participants (the worst score is quite good when the agreement percent is high)."
   ]
  },
  {
   "cell_type": "code",
   "execution_count": 40,
   "metadata": {
    "scrolled": true
   },
   "outputs": [
    {
     "data": {
      "text/plain": [
       "{0: 1.8253968253968225,\n",
       " 1: 1.3690476190476488,\n",
       " 2: 10.992063492063508,\n",
       " 3: 5.416666666666686,\n",
       " 4: 10.714285714285737,\n",
       " 5: 4.226190476190482}"
      ]
     },
     "execution_count": 40,
     "metadata": {},
     "output_type": "execute_result"
    }
   ],
   "source": [
    "groups = df_summary_groups.sort_values('groups').groupby('groups')\n",
    "difference_in_pairs = {}\n",
    "for k, g in groups:\n",
    "    difference_in_pairs[g['groups'].iloc[0]] = np.abs(g['final_percent'].iloc[0] - g['final_percent'].iloc[1])\n",
    "difference_in_pairs"
   ]
  },
  {
   "cell_type": "code",
   "execution_count": null,
   "metadata": {},
   "outputs": [],
   "source": []
  }
 ],
 "metadata": {
  "kernelspec": {
   "display_name": "Python 3",
   "language": "python",
   "name": "python3"
  },
  "language_info": {
   "codemirror_mode": {
    "name": "ipython",
    "version": 3
   },
   "file_extension": ".py",
   "mimetype": "text/x-python",
   "name": "python",
   "nbconvert_exporter": "python",
   "pygments_lexer": "ipython3",
   "version": "3.7.0"
  }
 },
 "nbformat": 4,
 "nbformat_minor": 2
}
