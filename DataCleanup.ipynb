{
 "cells": [
  {
   "cell_type": "code",
   "execution_count": 7,
   "metadata": {},
   "outputs": [],
   "source": [
    "import pandas as pd\n",
    "import numpy as np\n",
    "import matplotlib.pyplot as plt\n",
    "import json\n",
    "\n",
    "from utils_quizzes import *\n",
    "from utils_sessions import *"
   ]
  },
  {
   "cell_type": "code",
   "execution_count": 8,
   "metadata": {},
   "outputs": [],
   "source": [
    "# Constants, paths, ecc\n",
    "DATA = 'data/'\n",
    "CLEAN = 'clean/'\n",
    "BASE_PATH = DATA + CLEAN"
   ]
  },
  {
   "cell_type": "code",
   "execution_count": 18,
   "metadata": {},
   "outputs": [
    {
     "name": "stdout",
     "output_type": "stream",
     "text": [
      "    Unnamed: 0  id     0  1         2     total    percent\n",
      "id                                                        \n",
      "0            0   0  0.50  0  1.000000  1.500000  50.000000\n",
      "3            1   3  0.25  1  0.666667  1.916667  63.888889\n",
      "1            2   1  0.75  1  0.833333  2.583333  86.111111\n",
      "2            3   2  0.75  0  1.000000  1.750000  58.333333\n"
     ]
    }
   ],
   "source": [
    "session = 0\n",
    "\n",
    "def session_summary(session):\n",
    "    df_groups = pd.read_csv(BASE_PATH + 's' + str(session) + '_groups.csv')\n",
    "    df_groups.index = df_groups.id\n",
    "    df_groups = df_groups[['partner']]\n",
    "\n",
    "    df_pretest = pd.read_csv(BASE_PATH + 's' + str(session) + '_pretest.csv')\n",
    "    df_pretest.index = df_pretest.id\n",
    "    df_pretest = df_pretest[['total', 'percent']]\n",
    "    df_pretest.columns = ['pretest_total', 'pretest_percent']\n",
    "\n",
    "    df_squat = pd.read_csv(BASE_PATH + 's' + str(session) + '_squat.csv')\n",
    "    df_squat.index = df_squat.id\n",
    "    df_squat = df_squat[['total', 'percent']]\n",
    "    df_squat.columns = ['squat_total', 'squat_percent']\n",
    "\n",
    "    df_pushup = pd.read_csv(BASE_PATH + 's' + str(session) + '_pushup.csv')\n",
    "    df_pushup.index = df_pushup.id\n",
    "    df_pushup = df_pushup[['total', 'percent']]\n",
    "    df_pushup.columns = ['pushup_total', 'pushup_percent']\n",
    "\n",
    "    df_final = pd.read_csv(BASE_PATH + 's' + str(session) + '_final.csv')\n",
    "    df_final.index = df_final.id\n",
    "    df_final = df_final[['total', 'percent']]\n",
    "    df_final.columns = ['final_total', 'final_percent']\n",
    "\n",
    "    return df_groups.join([df_pretest, df_squat, df_pushup, df_final])"
   ]
  },
  {
   "cell_type": "code",
   "execution_count": 7,
   "metadata": {},
   "outputs": [
    {
     "data": {
      "text/plain": [
       "'\\nTODOS:\\n'"
      ]
     },
     "execution_count": 7,
     "metadata": {},
     "output_type": "execute_result"
    }
   ],
   "source": [
    "'''\n",
    "DONE:\n",
    "- parsed each useful csv and json (grouping, pretest, squat, pushup, final quiz) except peer grading\n",
    "- each \"score\" is in 0-1 range (still need to put in columns with totals)\n",
    "- everything in data/clean, one file per part per session\n",
    "\n",
    "TODOS:\n",
    "- finish cleanup (almost done)\n",
    "- analysis, tests, tests and more tests\n",
    "'''"
   ]
  },
  {
   "cell_type": "code",
   "execution_count": null,
   "metadata": {},
   "outputs": [],
   "source": []
  }
 ],
 "metadata": {
  "kernelspec": {
   "display_name": "Python 3",
   "language": "python",
   "name": "python3"
  },
  "language_info": {
   "codemirror_mode": {
    "name": "ipython",
    "version": 3
   },
   "file_extension": ".py",
   "mimetype": "text/x-python",
   "name": "python",
   "nbconvert_exporter": "python",
   "pygments_lexer": "ipython3",
   "version": "3.6.5"
  }
 },
 "nbformat": 4,
 "nbformat_minor": 2
}
